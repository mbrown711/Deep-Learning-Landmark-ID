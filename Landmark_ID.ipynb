{
  "nbformat": 4,
  "nbformat_minor": 0,
  "metadata": {
    "colab": {
      "name": "Landmark_ID.ipynb",
      "provenance": [],
      "collapsed_sections": [],
      "include_colab_link": true
    },
    "language_info": {
      "codemirror_mode": {
        "name": "ipython",
        "version": 3
      },
      "file_extension": ".py",
      "mimetype": "text/x-python",
      "name": "python",
      "nbconvert_exporter": "python",
      "pygments_lexer": "ipython3",
      "version": "3.5.2"
    },
    "kernelspec": {
      "display_name": "Python 3",
      "language": "python",
      "name": "python3"
    },
    "accelerator": "GPU"
  },
  "cells": [
    {
      "cell_type": "markdown",
      "metadata": {
        "id": "view-in-github",
        "colab_type": "text"
      },
      "source": [
        "<a href=\"https://colab.research.google.com/github/mbrown711/Deep-Learning-Landmark-ID/blob/master/Landmark_ID.ipynb\" target=\"_parent\"><img src=\"https://colab.research.google.com/assets/colab-badge.svg\" alt=\"Open In Colab\"/></a>"
      ]
    },
    {
      "cell_type": "markdown",
      "metadata": {
        "colab_type": "text",
        "deletable": true,
        "editable": true,
        "id": "aDw1dGiBQPfx"
      },
      "source": [
        "# Part 1 - Identifying Flower Types:"
      ]
    },
    {
      "cell_type": "code",
      "metadata": {
        "colab_type": "code",
        "deletable": true,
        "editable": true,
        "id": "VcTgdSeKoBp6",
        "outputId": "42bf48ed-6f93-4883-fe18-6d43549dc7c6",
        "colab": {
          "base_uri": "https://localhost:8080/",
          "height": 187
        }
      },
      "source": [
        "!pip install -q tensorflow==2.0.0-beta1\n",
        "\n",
        "!pip show tensorflow"
      ],
      "execution_count": 0,
      "outputs": [
        {
          "output_type": "stream",
          "text": [
            "Name: tensorflow\n",
            "Version: 2.0.0b1\n",
            "Summary: TensorFlow is an open source machine learning framework for everyone.\n",
            "Home-page: https://www.tensorflow.org/\n",
            "Author: Google Inc.\n",
            "Author-email: packages@tensorflow.org\n",
            "License: Apache 2.0\n",
            "Location: /usr/local/lib/python3.6/dist-packages\n",
            "Requires: protobuf, wheel, six, keras-applications, gast, google-pasta, tb-nightly, keras-preprocessing, wrapt, grpcio, numpy, tf-estimator-nightly, astor, termcolor, absl-py\n",
            "Required-by: stable-baselines, magenta, fancyimpute\n"
          ],
          "name": "stdout"
        }
      ]
    },
    {
      "cell_type": "code",
      "metadata": {
        "colab_type": "code",
        "deletable": true,
        "editable": true,
        "id": "24tPc1lkRqFx",
        "outputId": "5289a253-e934-4a4e-e775-9c1d65e32703",
        "colab": {
          "base_uri": "https://localhost:8080/",
          "height": 51
        }
      },
      "source": [
        "from google.colab import drive\n",
        "drive.mount('/gdrive')\n",
        "%cd /gdrive"
      ],
      "execution_count": 0,
      "outputs": [
        {
          "output_type": "stream",
          "text": [
            "Drive already mounted at /gdrive; to attempt to forcibly remount, call drive.mount(\"/gdrive\", force_remount=True).\n",
            "/gdrive\n"
          ],
          "name": "stdout"
        }
      ]
    },
    {
      "cell_type": "code",
      "metadata": {
        "colab_type": "code",
        "deletable": true,
        "editable": true,
        "id": "ICYGzV0LR1x8",
        "outputId": "f582a30e-1b2e-4e4a-8e07-c21ca42e3320",
        "colab": {
          "base_uri": "https://localhost:8080/",
          "height": 34
        }
      },
      "source": [
        "cd My Drive"
      ],
      "execution_count": 0,
      "outputs": [
        {
          "output_type": "stream",
          "text": [
            "/gdrive/My Drive\n"
          ],
          "name": "stdout"
        }
      ]
    },
    {
      "cell_type": "code",
      "metadata": {
        "colab_type": "code",
        "deletable": true,
        "editable": true,
        "id": "0iJ6g7TESPfU",
        "outputId": "a3ebf8de-0515-4626-fbc0-dec40c454abd",
        "colab": {
          "base_uri": "https://localhost:8080/",
          "height": 34
        }
      },
      "source": [
        "cd PaceCourses/Summer2019/DeepLearning/Assignments/Assignment2/mini_flowers"
      ],
      "execution_count": 0,
      "outputs": [
        {
          "output_type": "stream",
          "text": [
            "/gdrive/My Drive/PaceCourses/Summer2019/DeepLearning/Assignments/Assignment2/mini_flowers\n"
          ],
          "name": "stdout"
        }
      ]
    },
    {
      "cell_type": "code",
      "metadata": {
        "colab_type": "code",
        "deletable": true,
        "editable": true,
        "id": "-lHSf166SYBa",
        "colab": {}
      },
      "source": [
        "import matplotlib.pyplot as plt\n",
        "import numpy as np\n",
        "import os\n",
        "\n",
        "import tensorflow as tf\n",
        "import zipfile\n",
        "\n",
        "from tensorflow.keras.applications import VGG16\n",
        "from tensorflow.keras.layers import Conv2D, Dense, Dropout, Flatten, MaxPooling2D\n",
        "from tensorflow.keras.models import Sequential\n",
        "from tensorflow.keras.preprocessing.image import ImageDataGenerator\n",
        "\n",
        "TARGET_SHAPE = 150 \n",
        "BATCH_SIZE = 32\n",
        "\n",
        "FLATTENED_SHAPE = 4 * 4 * 512\n",
        "\n",
        "EPOCHS = 10"
      ],
      "execution_count": 0,
      "outputs": []
    },
    {
      "cell_type": "code",
      "metadata": {
        "colab_type": "code",
        "deletable": true,
        "editable": true,
        "id": "OrJ6h_JxSfd0",
        "colab": {}
      },
      "source": [
        "base_dir = '/gdrive/My Drive/PaceCourses/Summer2019/DeepLearning/Assignments/Assignment2/mini_flowers'\n",
        "train_dir = os.path.join(base_dir, 'train')\n",
        "test_dir = os.path.join(base_dir, 'test')\n",
        "\n",
        "train_daisy_dir = os.path.join(train_dir, 'daisy')\n",
        "train_dandelion_dir = os.path.join(train_dir, 'dandelion')\n",
        "train_roses_dir = os.path.join(train_dir, 'roses')\n",
        "train_sunflowers_dir = os.path.join(train_dir, 'sunflowers')\n",
        "train_tulips_dir = os.path.join(train_dir, 'tulips')\n",
        "\n",
        "test_daisy_dir = os.path.join(test_dir, 'daisy')\n",
        "test_dandelion_dir = os.path.join(test_dir, 'dandelion')\n",
        "test_roses_dir = os.path.join(test_dir, 'roses')\n",
        "test_sunflowers_dir = os.path.join(test_dir, 'sunflowers')\n",
        "test_tulips_dir = os.path.join(test_dir, 'tulips')"
      ],
      "execution_count": 0,
      "outputs": []
    },
    {
      "cell_type": "code",
      "metadata": {
        "colab_type": "code",
        "deletable": true,
        "editable": true,
        "id": "-eOw_od9StIv",
        "colab": {}
      },
      "source": [
        "num_daisy_train = len(os.listdir(train_daisy_dir))\n",
        "num_dandelion_train = len(os.listdir(train_dandelion_dir))\n",
        "num_roses_train = len(os.listdir(train_roses_dir))\n",
        "num_sunflowers_train = len(os.listdir(train_sunflowers_dir))\n",
        "num_tulips_train = len(os.listdir(train_tulips_dir))\n",
        "\n",
        "num_daisy_test = len(os.listdir(test_daisy_dir))\n",
        "num_dandelion_test = len(os.listdir(test_dandelion_dir))\n",
        "num_roses_test = len(os.listdir(test_roses_dir))\n",
        "num_sunflowers_test = len(os.listdir(test_sunflowers_dir))\n",
        "num_tulips_test = len(os.listdir(test_tulips_dir))\n",
        "\n",
        "total_train = num_daisy_train + num_dandelion_train + num_roses_train + num_sunflowers_train + num_tulips_train\n",
        "total_val = num_daisy_test + num_dandelion_test + num_roses_test + num_sunflowers_test + num_tulips_test"
      ],
      "execution_count": 0,
      "outputs": []
    },
    {
      "cell_type": "code",
      "metadata": {
        "colab_type": "code",
        "deletable": true,
        "editable": true,
        "id": "WvmZRqKRWBwd",
        "outputId": "ced52a9c-796d-4ae8-b07e-17b43016b313",
        "colab": {
          "base_uri": "https://localhost:8080/",
          "height": 238
        }
      },
      "source": [
        "print('Training daisy images:', num_daisy_train)\n",
        "print('Training dandelion images:', num_dandelion_train)\n",
        "print('Training roses images:', num_roses_train)\n",
        "print('Training sunflowers images:', num_sunflowers_train)\n",
        "print('Training tulips images:', num_tulips_train)\n",
        "\n",
        "print('Testing daisy images:', num_daisy_test)\n",
        "print('Testing dandelion images:', num_dandelion_test)\n",
        "print('Testing roses images:', num_roses_test)\n",
        "print('Testing sunflowers images:', num_sunflowers_test)\n",
        "print('Testing tulips images:', num_tulips_test)\n",
        "\n",
        "print('---------')\n",
        "\n",
        "print('Total training images:', total_train)\n",
        "print('Total testing images:', total_val)"
      ],
      "execution_count": 0,
      "outputs": [
        {
          "output_type": "stream",
          "text": [
            "Training daisy images: 200\n",
            "Training dandelion images: 200\n",
            "Training roses images: 200\n",
            "Training sunflowers images: 200\n",
            "Training tulips images: 200\n",
            "Testing daisy images: 100\n",
            "Testing dandelion images: 100\n",
            "Testing roses images: 100\n",
            "Testing sunflowers images: 100\n",
            "Testing tulips images: 100\n",
            "---------\n",
            "Total training images: 1000\n",
            "Total testing images: 500\n"
          ],
          "name": "stdout"
        }
      ]
    },
    {
      "cell_type": "markdown",
      "metadata": {
        "colab_type": "text",
        "deletable": true,
        "editable": true,
        "id": "w36Rbj1vX9Vm"
      },
      "source": [
        "### Using a previously trained model - VGG16"
      ]
    },
    {
      "cell_type": "code",
      "metadata": {
        "colab_type": "code",
        "deletable": true,
        "editable": true,
        "id": "ROFye_iPXVjG",
        "outputId": "9028cc98-dbd6-48d7-e799-e55ac5128d19",
        "colab": {
          "base_uri": "https://localhost:8080/",
          "height": 51
        }
      },
      "source": [
        "conv_base = VGG16(weights='imagenet', include_top=False, input_shape=(150, 150, 3))"
      ],
      "execution_count": 0,
      "outputs": [
        {
          "output_type": "stream",
          "text": [
            "Downloading data from https://github.com/fchollet/deep-learning-models/releases/download/v0.1/vgg16_weights_tf_dim_ordering_tf_kernels_notop.h5\n",
            "58892288/58889256 [==============================] - 1s 0us/step\n"
          ],
          "name": "stdout"
        }
      ]
    },
    {
      "cell_type": "markdown",
      "metadata": {
        "colab_type": "text",
        "deletable": true,
        "editable": true,
        "id": "SB_AFPClYaxH"
      },
      "source": [
        "### Showing the architecure of the VGG16 - similar to other CNNs:"
      ]
    },
    {
      "cell_type": "code",
      "metadata": {
        "colab_type": "code",
        "deletable": true,
        "editable": true,
        "id": "-2uA8eMYYUcM",
        "outputId": "4f5fa430-80ac-4cfb-a8f8-8750634b0c87",
        "colab": {
          "base_uri": "https://localhost:8080/",
          "height": 799
        }
      },
      "source": [
        "conv_base.summary()"
      ],
      "execution_count": 0,
      "outputs": [
        {
          "output_type": "stream",
          "text": [
            "Model: \"vgg16\"\n",
            "_________________________________________________________________\n",
            "Layer (type)                 Output Shape              Param #   \n",
            "=================================================================\n",
            "input_1 (InputLayer)         [(None, 150, 150, 3)]     0         \n",
            "_________________________________________________________________\n",
            "block1_conv1 (Conv2D)        (None, 150, 150, 64)      1792      \n",
            "_________________________________________________________________\n",
            "block1_conv2 (Conv2D)        (None, 150, 150, 64)      36928     \n",
            "_________________________________________________________________\n",
            "block1_pool (MaxPooling2D)   (None, 75, 75, 64)        0         \n",
            "_________________________________________________________________\n",
            "block2_conv1 (Conv2D)        (None, 75, 75, 128)       73856     \n",
            "_________________________________________________________________\n",
            "block2_conv2 (Conv2D)        (None, 75, 75, 128)       147584    \n",
            "_________________________________________________________________\n",
            "block2_pool (MaxPooling2D)   (None, 37, 37, 128)       0         \n",
            "_________________________________________________________________\n",
            "block3_conv1 (Conv2D)        (None, 37, 37, 256)       295168    \n",
            "_________________________________________________________________\n",
            "block3_conv2 (Conv2D)        (None, 37, 37, 256)       590080    \n",
            "_________________________________________________________________\n",
            "block3_conv3 (Conv2D)        (None, 37, 37, 256)       590080    \n",
            "_________________________________________________________________\n",
            "block3_pool (MaxPooling2D)   (None, 18, 18, 256)       0         \n",
            "_________________________________________________________________\n",
            "block4_conv1 (Conv2D)        (None, 18, 18, 512)       1180160   \n",
            "_________________________________________________________________\n",
            "block4_conv2 (Conv2D)        (None, 18, 18, 512)       2359808   \n",
            "_________________________________________________________________\n",
            "block4_conv3 (Conv2D)        (None, 18, 18, 512)       2359808   \n",
            "_________________________________________________________________\n",
            "block4_pool (MaxPooling2D)   (None, 9, 9, 512)         0         \n",
            "_________________________________________________________________\n",
            "block5_conv1 (Conv2D)        (None, 9, 9, 512)         2359808   \n",
            "_________________________________________________________________\n",
            "block5_conv2 (Conv2D)        (None, 9, 9, 512)         2359808   \n",
            "_________________________________________________________________\n",
            "block5_conv3 (Conv2D)        (None, 9, 9, 512)         2359808   \n",
            "_________________________________________________________________\n",
            "block5_pool (MaxPooling2D)   (None, 4, 4, 512)         0         \n",
            "=================================================================\n",
            "Total params: 14,714,688\n",
            "Trainable params: 14,714,688\n",
            "Non-trainable params: 0\n",
            "_________________________________________________________________\n"
          ],
          "name": "stdout"
        }
      ]
    },
    {
      "cell_type": "code",
      "metadata": {
        "colab_type": "code",
        "deletable": true,
        "editable": true,
        "id": "xA-bsYKocbqb",
        "colab": {}
      },
      "source": [
        "model = Sequential()\n",
        "model.add(conv_base)\n",
        "model.add(Flatten())\n",
        "model.add(Dense(512, activation='relu'))\n",
        "model.add(Dense(5, activation='softmax'))"
      ],
      "execution_count": 0,
      "outputs": []
    },
    {
      "cell_type": "code",
      "metadata": {
        "colab_type": "code",
        "deletable": true,
        "editable": true,
        "id": "vBgdDCEsaRox",
        "outputId": "68b2799d-d0d9-4364-e368-c6b35e787f6f",
        "colab": {
          "base_uri": "https://localhost:8080/",
          "height": 289
        }
      },
      "source": [
        "model.summary()"
      ],
      "execution_count": 0,
      "outputs": [
        {
          "output_type": "stream",
          "text": [
            "Model: \"sequential\"\n",
            "_________________________________________________________________\n",
            "Layer (type)                 Output Shape              Param #   \n",
            "=================================================================\n",
            "vgg16 (Model)                (None, 4, 4, 512)         14714688  \n",
            "_________________________________________________________________\n",
            "flatten (Flatten)            (None, 8192)              0         \n",
            "_________________________________________________________________\n",
            "dense (Dense)                (None, 512)               4194816   \n",
            "_________________________________________________________________\n",
            "dense_1 (Dense)              (None, 5)                 2565      \n",
            "=================================================================\n",
            "Total params: 18,912,069\n",
            "Trainable params: 18,912,069\n",
            "Non-trainable params: 0\n",
            "_________________________________________________________________\n"
          ],
          "name": "stdout"
        }
      ]
    },
    {
      "cell_type": "markdown",
      "metadata": {
        "colab_type": "text",
        "deletable": true,
        "editable": true,
        "id": "ZiEEPkOZaaCo"
      },
      "source": [
        "### Freezing base below to prevent it from being update during training:"
      ]
    },
    {
      "cell_type": "code",
      "metadata": {
        "colab_type": "code",
        "deletable": true,
        "editable": true,
        "id": "BA2ja5a-aTo8",
        "colab": {}
      },
      "source": [
        "conv_base.trainable = False"
      ],
      "execution_count": 0,
      "outputs": []
    },
    {
      "cell_type": "code",
      "metadata": {
        "colab_type": "code",
        "deletable": true,
        "editable": true,
        "id": "3BwjtadZagsV",
        "outputId": "c3764733-c58c-4957-8708-5d8e07a06f67",
        "colab": {
          "base_uri": "https://localhost:8080/",
          "height": 51
        }
      },
      "source": [
        "image_gen_train = ImageDataGenerator(rescale=1./255)\n",
        "\n",
        "train_data_gen = image_gen_train.flow_from_directory(\n",
        "    batch_size=BATCH_SIZE, \n",
        "    directory=train_dir, \n",
        "    shuffle=True, \n",
        "    target_size=(TARGET_SHAPE,TARGET_SHAPE),\n",
        "    class_mode='categorical')\n",
        "\n",
        "image_gen_test = ImageDataGenerator(rescale=1./255)\n",
        "\n",
        "test_data_gen = image_gen_test.flow_from_directory(\n",
        "    batch_size=BATCH_SIZE, \n",
        "    directory=test_dir, \n",
        "    target_size=(TARGET_SHAPE, TARGET_SHAPE),\n",
        "    class_mode='categorical')"
      ],
      "execution_count": 0,
      "outputs": [
        {
          "output_type": "stream",
          "text": [
            "Found 1000 images belonging to 5 classes.\n",
            "Found 500 images belonging to 5 classes.\n"
          ],
          "name": "stdout"
        }
      ]
    },
    {
      "cell_type": "markdown",
      "metadata": {
        "colab_type": "text",
        "deletable": true,
        "editable": true,
        "id": "hcx8-b2QdFyz"
      },
      "source": [
        "### Compiling and training the model:"
      ]
    },
    {
      "cell_type": "code",
      "metadata": {
        "colab_type": "code",
        "deletable": true,
        "editable": true,
        "id": "lWekD1WkbmVv",
        "outputId": "022608a6-8217-4730-ca31-c4a0f29bb75d",
        "colab": {
          "base_uri": "https://localhost:8080/",
          "height": 445
        }
      },
      "source": [
        "model.compile(optimizer='adam',\n",
        "              loss='categorical_crossentropy',\n",
        "              metrics=['accuracy'])\n",
        "\n",
        "history = model.fit_generator(\n",
        "      train_data_gen,\n",
        "      steps_per_epoch=int(np.ceil(total_train / float(BATCH_SIZE))),\n",
        "      epochs=EPOCHS,\n",
        "      validation_data=test_data_gen,\n",
        "      validation_steps=int(np.ceil(total_val / float(BATCH_SIZE))),\n",
        "      verbose=2)"
      ],
      "execution_count": 0,
      "outputs": [
        {
          "output_type": "stream",
          "text": [
            "Epoch 1/10\n"
          ],
          "name": "stdout"
        },
        {
          "output_type": "stream",
          "text": [
            "WARNING: Logging before flag parsing goes to stderr.\n",
            "W0630 22:55:16.615018 140188564109184 deprecation.py:323] From /usr/local/lib/python3.6/dist-packages/tensorflow/python/ops/math_grad.py:1250: add_dispatch_support.<locals>.wrapper (from tensorflow.python.ops.array_ops) is deprecated and will be removed in a future version.\n",
            "Instructions for updating:\n",
            "Use tf.where in 2.0, which has the same broadcast rule as np.where\n"
          ],
          "name": "stderr"
        },
        {
          "output_type": "stream",
          "text": [
            "32/32 - 358s - loss: 1.8463 - accuracy: 0.5390 - val_loss: 0.7909 - val_accuracy: 0.6980\n",
            "Epoch 2/10\n",
            "32/32 - 284s - loss: 0.4811 - accuracy: 0.8400 - val_loss: 0.6717 - val_accuracy: 0.7640\n",
            "Epoch 3/10\n",
            "32/32 - 280s - loss: 0.2914 - accuracy: 0.9130 - val_loss: 0.5940 - val_accuracy: 0.7900\n",
            "Epoch 4/10\n",
            "32/32 - 277s - loss: 0.1751 - accuracy: 0.9550 - val_loss: 0.6328 - val_accuracy: 0.7720\n",
            "Epoch 5/10\n",
            "32/32 - 279s - loss: 0.1041 - accuracy: 0.9860 - val_loss: 0.6597 - val_accuracy: 0.7800\n",
            "Epoch 6/10\n",
            "32/32 - 278s - loss: 0.0680 - accuracy: 0.9910 - val_loss: 0.6843 - val_accuracy: 0.7820\n",
            "Epoch 7/10\n",
            "32/32 - 276s - loss: 0.0415 - accuracy: 0.9990 - val_loss: 0.6982 - val_accuracy: 0.7560\n",
            "Epoch 8/10\n",
            "32/32 - 276s - loss: 0.0269 - accuracy: 1.0000 - val_loss: 0.6334 - val_accuracy: 0.8000\n",
            "Epoch 9/10\n",
            "32/32 - 278s - loss: 0.0194 - accuracy: 1.0000 - val_loss: 0.7125 - val_accuracy: 0.7760\n",
            "Epoch 10/10\n",
            "32/32 - 277s - loss: 0.0146 - accuracy: 1.0000 - val_loss: 0.6485 - val_accuracy: 0.7940\n"
          ],
          "name": "stdout"
        }
      ]
    },
    {
      "cell_type": "code",
      "metadata": {
        "colab_type": "code",
        "deletable": true,
        "editable": true,
        "id": "QCNhZe5gdp9r",
        "outputId": "e7af7c76-b95f-480a-a896-c5bbdad13f53",
        "colab": {
          "base_uri": "https://localhost:8080/",
          "height": 499
        }
      },
      "source": [
        "acc = history.history['accuracy']\n",
        "val_accuracy = history.history['val_accuracy']\n",
        "\n",
        "loss = history.history['loss']\n",
        "val_loss = history.history['val_loss']\n",
        "\n",
        "epochs_range = range(1, EPOCHS+1)\n",
        "\n",
        "plt.figure(figsize=(8, 8))\n",
        "plt.subplot(1, 2, 1)\n",
        "plt.plot(epochs_range, acc, label='Training Accuracy')\n",
        "plt.plot(epochs_range, val_accuracy, label='Testing Accuracy')\n",
        "plt.legend(loc='lower right')\n",
        "plt.title('Training and Testing Accuracy')\n",
        "\n",
        "plt.subplot(1, 2, 2)\n",
        "plt.plot(epochs_range, loss, label='Training Loss')\n",
        "plt.plot(epochs_range, val_loss, label='Testing Loss')\n",
        "plt.legend(loc='upper right')\n",
        "plt.title('Training and Testing Loss')\n",
        "plt.show()"
      ],
      "execution_count": 0,
      "outputs": [
        {
          "output_type": "display_data",
          "data": {
            "image/png": "[encoded data removed]",
            "text/plain": [
              "<Figure size 576x576 with 2 Axes>"
            ]
          },
          "metadata": {
            "tags": []
          }
        }
      ]
    },
    {
      "cell_type": "markdown",
      "metadata": {
        "colab_type": "text",
        "deletable": true,
        "editable": true,
        "id": "JoTm5CMwA0CD"
      },
      "source": [
        "# Part 2 - Landmark Identifier:"
      ]
    },
    {
      "cell_type": "code",
      "metadata": {
        "colab_type": "code",
        "deletable": true,
        "editable": true,
        "id": "_5bAl9RPb7MM",
        "outputId": "9e3adbb7-e97b-4d6f-9d87-5b420d9e0e29",
        "colab": {
          "base_uri": "https://localhost:8080/",
          "height": 34
        }
      },
      "source": [
        "cd .."
      ],
      "execution_count": 0,
      "outputs": [
        {
          "output_type": "stream",
          "text": [
            "/gdrive/My Drive/PaceCourses/Summer2019/DeepLearning/Assignments/Assignment2\n"
          ],
          "name": "stdout"
        }
      ]
    },
    {
      "cell_type": "code",
      "metadata": {
        "colab_type": "code",
        "deletable": true,
        "editable": true,
        "id": "Z_swXFzP0MFh",
        "outputId": "b2b382e5-ac90-4216-9476-4b4fd8f810a5",
        "colab": {
          "base_uri": "https://localhost:8080/",
          "height": 34
        }
      },
      "source": [
        "cd landmarks"
      ],
      "execution_count": 0,
      "outputs": [
        {
          "output_type": "stream",
          "text": [
            "/gdrive/My Drive/PaceCourses/Summer2019/DeepLearning/Assignments/Assignment2/landmarks\n"
          ],
          "name": "stdout"
        }
      ]
    },
    {
      "cell_type": "code",
      "metadata": {
        "colab_type": "code",
        "deletable": true,
        "editable": true,
        "id": "MURpUF4hA3fp",
        "colab": {}
      },
      "source": [
        "import matplotlib.pyplot as plt\n",
        "import numpy as np\n",
        "import os\n",
        "\n",
        "import tensorflow as tf\n",
        "import zipfile\n",
        "\n",
        "from tensorflow.keras.applications import VGG16\n",
        "from tensorflow.keras.layers import Conv2D, Dense, Dropout, Flatten, MaxPooling2D\n",
        "from tensorflow.keras.models import Sequential\n",
        "from tensorflow.keras.preprocessing.image import ImageDataGenerator\n",
        "\n",
        "TARGET_SHAPE = 150 \n",
        "BATCH_SIZE = 32\n",
        "\n",
        "FLATTENED_SHAPE = 4 * 4 * 512\n",
        "\n",
        "EPOCHS = 7"
      ],
      "execution_count": 0,
      "outputs": []
    },
    {
      "cell_type": "code",
      "metadata": {
        "colab_type": "code",
        "deletable": true,
        "editable": true,
        "id": "hvZpCykvZOeg",
        "colab": {}
      },
      "source": [
        "base_building_dir = '/gdrive/My Drive/PaceCourses/Summer2019/DeepLearning/Assignments/Assignment2/landmarks'\n",
        "train_building_dir = os.path.join(base_building_dir, 'train')\n",
        "test_building_dir = os.path.join(base_building_dir, 'test')\n",
        "\n",
        "train_building1_dir = os.path.join(train_building_dir, 'building_1')\n",
        "train_building2_dir = os.path.join(train_building_dir, 'building_2')\n",
        "train_building3_dir = os.path.join(train_building_dir, 'building_3')\n",
        "\n",
        "test_building1_dir = os.path.join(test_building_dir, 'building_1')\n",
        "test_building2_dir = os.path.join(test_building_dir, 'building_2')\n",
        "test_building3_dir = os.path.join(test_building_dir, 'building_3')"
      ],
      "execution_count": 0,
      "outputs": []
    },
    {
      "cell_type": "code",
      "metadata": {
        "colab_type": "code",
        "deletable": true,
        "editable": true,
        "id": "GO6UAEt8ZTE7",
        "colab": {}
      },
      "source": [
        "num_building1_train = len(os.listdir(train_building1_dir))\n",
        "num_building2_train = len(os.listdir(train_building2_dir))\n",
        "num_building3_train = len(os.listdir(train_building3_dir))\n",
        "\n",
        "num_building1_test = len(os.listdir(test_building1_dir))\n",
        "num_building2_test = len(os.listdir(test_building2_dir))\n",
        "num_building3_test = len(os.listdir(test_building3_dir))\n",
        "\n",
        "total_building_train = num_building1_train + num_building2_train + num_building3_train\n",
        "total_building_val = num_building1_test + num_building2_test + num_building3_test"
      ],
      "execution_count": 0,
      "outputs": []
    },
    {
      "cell_type": "code",
      "metadata": {
        "colab_type": "code",
        "deletable": true,
        "editable": true,
        "id": "A93oXcBmZUjA",
        "outputId": "b5a36b0c-e026-4f3b-b0cd-e9c23b0fd1e3",
        "colab": {
          "base_uri": "https://localhost:8080/",
          "height": 170
        }
      },
      "source": [
        "print('Training building_1 images:', num_building1_train)\n",
        "print('Training building_2 images:', num_building2_train)\n",
        "print('Training building_3 images:', num_building3_train)\n",
        "\n",
        "print('Testing building_1 images:', num_building1_test)\n",
        "print('Testing building_2 images:', num_building2_test)\n",
        "print('Testing building_3 images:', num_building3_test)\n",
        "print('---------')\n",
        "\n",
        "print('Total training images:', total_building_train)\n",
        "print('Total testing images:', total_building_val)"
      ],
      "execution_count": 0,
      "outputs": [
        {
          "output_type": "stream",
          "text": [
            "Training building_1 images: 22\n",
            "Training building_2 images: 16\n",
            "Training building_3 images: 17\n",
            "Testing building_1 images: 16\n",
            "Testing building_2 images: 10\n",
            "Testing building_3 images: 10\n",
            "---------\n",
            "Total training images: 55\n",
            "Total testing images: 36\n"
          ],
          "name": "stdout"
        }
      ]
    },
    {
      "cell_type": "code",
      "metadata": {
        "colab_type": "code",
        "deletable": true,
        "editable": true,
        "id": "Z7-yyNXqZgq4",
        "colab": {}
      },
      "source": [
        "conv_base = VGG16(weights='imagenet', include_top=False, input_shape=(150, 150, 3))"
      ],
      "execution_count": 0,
      "outputs": []
    },
    {
      "cell_type": "code",
      "metadata": {
        "colab_type": "code",
        "deletable": true,
        "editable": true,
        "id": "acuRL-kdZihM",
        "outputId": "f84f280b-4b7f-42d8-fc5b-215b85aa1ed3",
        "colab": {
          "base_uri": "https://localhost:8080/",
          "height": 799
        }
      },
      "source": [
        "conv_base.summary()"
      ],
      "execution_count": 0,
      "outputs": [
        {
          "output_type": "stream",
          "text": [
            "Model: \"vgg16\"\n",
            "_________________________________________________________________\n",
            "Layer (type)                 Output Shape              Param #   \n",
            "=================================================================\n",
            "input_2 (InputLayer)         [(None, 150, 150, 3)]     0         \n",
            "_________________________________________________________________\n",
            "block1_conv1 (Conv2D)        (None, 150, 150, 64)      1792      \n",
            "_________________________________________________________________\n",
            "block1_conv2 (Conv2D)        (None, 150, 150, 64)      36928     \n",
            "_________________________________________________________________\n",
            "block1_pool (MaxPooling2D)   (None, 75, 75, 64)        0         \n",
            "_________________________________________________________________\n",
            "block2_conv1 (Conv2D)        (None, 75, 75, 128)       73856     \n",
            "_________________________________________________________________\n",
            "block2_conv2 (Conv2D)        (None, 75, 75, 128)       147584    \n",
            "_________________________________________________________________\n",
            "block2_pool (MaxPooling2D)   (None, 37, 37, 128)       0         \n",
            "_________________________________________________________________\n",
            "block3_conv1 (Conv2D)        (None, 37, 37, 256)       295168    \n",
            "_________________________________________________________________\n",
            "block3_conv2 (Conv2D)        (None, 37, 37, 256)       590080    \n",
            "_________________________________________________________________\n",
            "block3_conv3 (Conv2D)        (None, 37, 37, 256)       590080    \n",
            "_________________________________________________________________\n",
            "block3_pool (MaxPooling2D)   (None, 18, 18, 256)       0         \n",
            "_________________________________________________________________\n",
            "block4_conv1 (Conv2D)        (None, 18, 18, 512)       1180160   \n",
            "_________________________________________________________________\n",
            "block4_conv2 (Conv2D)        (None, 18, 18, 512)       2359808   \n",
            "_________________________________________________________________\n",
            "block4_conv3 (Conv2D)        (None, 18, 18, 512)       2359808   \n",
            "_________________________________________________________________\n",
            "block4_pool (MaxPooling2D)   (None, 9, 9, 512)         0         \n",
            "_________________________________________________________________\n",
            "block5_conv1 (Conv2D)        (None, 9, 9, 512)         2359808   \n",
            "_________________________________________________________________\n",
            "block5_conv2 (Conv2D)        (None, 9, 9, 512)         2359808   \n",
            "_________________________________________________________________\n",
            "block5_conv3 (Conv2D)        (None, 9, 9, 512)         2359808   \n",
            "_________________________________________________________________\n",
            "block5_pool (MaxPooling2D)   (None, 4, 4, 512)         0         \n",
            "=================================================================\n",
            "Total params: 14,714,688\n",
            "Trainable params: 14,714,688\n",
            "Non-trainable params: 0\n",
            "_________________________________________________________________\n"
          ],
          "name": "stdout"
        }
      ]
    },
    {
      "cell_type": "code",
      "metadata": {
        "colab_type": "code",
        "deletable": true,
        "editable": true,
        "id": "WtKh44mEZoA7",
        "colab": {}
      },
      "source": [
        "model = Sequential()\n",
        "model.add(conv_base)\n",
        "model.add(Flatten())\n",
        "model.add(Dense(512, activation='relu'))\n",
        "model.add(Dense(3, activation='softmax'))"
      ],
      "execution_count": 0,
      "outputs": []
    },
    {
      "cell_type": "code",
      "metadata": {
        "colab_type": "code",
        "deletable": true,
        "editable": true,
        "id": "wWkvMSpbZu6j",
        "outputId": "12df49ac-c2ce-4031-818a-e8a7056575a8",
        "colab": {
          "base_uri": "https://localhost:8080/",
          "height": 289
        }
      },
      "source": [
        "model.summary()"
      ],
      "execution_count": 0,
      "outputs": [
        {
          "output_type": "stream",
          "text": [
            "Model: \"sequential_1\"\n",
            "_________________________________________________________________\n",
            "Layer (type)                 Output Shape              Param #   \n",
            "=================================================================\n",
            "vgg16 (Model)                (None, 4, 4, 512)         14714688  \n",
            "_________________________________________________________________\n",
            "flatten_1 (Flatten)          (None, 8192)              0         \n",
            "_________________________________________________________________\n",
            "dense_2 (Dense)              (None, 512)               4194816   \n",
            "_________________________________________________________________\n",
            "dense_3 (Dense)              (None, 3)                 1539      \n",
            "=================================================================\n",
            "Total params: 18,911,043\n",
            "Trainable params: 18,911,043\n",
            "Non-trainable params: 0\n",
            "_________________________________________________________________\n"
          ],
          "name": "stdout"
        }
      ]
    },
    {
      "cell_type": "code",
      "metadata": {
        "colab_type": "code",
        "deletable": true,
        "editable": true,
        "id": "3qWS8YqzZyhC",
        "colab": {}
      },
      "source": [
        "conv_base.trainable = False"
      ],
      "execution_count": 0,
      "outputs": []
    },
    {
      "cell_type": "code",
      "metadata": {
        "colab_type": "code",
        "deletable": true,
        "editable": true,
        "id": "Efh6uWHsZ5Gd",
        "outputId": "9e06bc69-bbad-4f90-9ddf-962b82a57fd7",
        "colab": {
          "base_uri": "https://localhost:8080/",
          "height": 51
        }
      },
      "source": [
        "image_gen_train = ImageDataGenerator(rescale=1./255)\n",
        "\n",
        "train_data_gen = image_gen_train.flow_from_directory(\n",
        "    batch_size=BATCH_SIZE, \n",
        "    directory=train_building_dir, \n",
        "    shuffle=True, \n",
        "    target_size=(TARGET_SHAPE,TARGET_SHAPE),\n",
        "    class_mode='categorical')\n",
        "\n",
        "image_gen_test = ImageDataGenerator(rescale=1./255)\n",
        "\n",
        "test_data_gen = image_gen_test.flow_from_directory(\n",
        "    batch_size=BATCH_SIZE, \n",
        "    directory=test_building_dir, \n",
        "    target_size=(TARGET_SHAPE, TARGET_SHAPE),\n",
        "    class_mode='categorical')"
      ],
      "execution_count": 0,
      "outputs": [
        {
          "output_type": "stream",
          "text": [
            "Found 55 images belonging to 3 classes.\n",
            "Found 36 images belonging to 3 classes.\n"
          ],
          "name": "stdout"
        }
      ]
    },
    {
      "cell_type": "code",
      "metadata": {
        "colab_type": "code",
        "deletable": true,
        "editable": true,
        "id": "2cvzwTIUZ6Uh",
        "outputId": "beb77c69-0082-4c95-8f20-37d06f46dc92",
        "colab": {
          "base_uri": "https://localhost:8080/",
          "height": 255
        }
      },
      "source": [
        "model.compile(optimizer='adam',\n",
        "              loss='categorical_crossentropy',\n",
        "              metrics=['accuracy'])\n",
        "\n",
        "history = model.fit_generator(\n",
        "      train_data_gen,\n",
        "      steps_per_epoch=int(np.ceil(total_building_train / float(BATCH_SIZE))),\n",
        "      epochs=EPOCHS,\n",
        "      validation_data=test_data_gen,\n",
        "      validation_steps=int(np.ceil(total_building_val / float(BATCH_SIZE))),\n",
        "      verbose=2)"
      ],
      "execution_count": 0,
      "outputs": [
        {
          "output_type": "stream",
          "text": [
            "Epoch 1/7\n",
            "2/2 - 36s - loss: 0.8950 - accuracy: 0.4727 - val_loss: 0.1361 - val_accuracy: 0.9444\n",
            "Epoch 2/7\n",
            "2/2 - 18s - loss: 0.1194 - accuracy: 0.9636 - val_loss: 0.1432 - val_accuracy: 0.9444\n",
            "Epoch 3/7\n",
            "2/2 - 19s - loss: 0.0241 - accuracy: 0.9818 - val_loss: 0.1647 - val_accuracy: 0.9167\n",
            "Epoch 4/7\n",
            "2/2 - 19s - loss: 0.0107 - accuracy: 1.0000 - val_loss: 0.3649 - val_accuracy: 0.9167\n",
            "Epoch 5/7\n",
            "2/2 - 19s - loss: 0.0105 - accuracy: 1.0000 - val_loss: 0.1539 - val_accuracy: 0.9167\n",
            "Epoch 6/7\n",
            "2/2 - 19s - loss: 0.0017 - accuracy: 1.0000 - val_loss: 0.1293 - val_accuracy: 0.9167\n",
            "Epoch 7/7\n",
            "2/2 - 19s - loss: 1.4732e-04 - accuracy: 1.0000 - val_loss: 0.1001 - val_accuracy: 0.9444\n"
          ],
          "name": "stdout"
        }
      ]
    },
    {
      "cell_type": "code",
      "metadata": {
        "colab_type": "code",
        "deletable": true,
        "editable": true,
        "id": "XvYsKmJ-aAUl",
        "outputId": "93a72a4f-0737-4316-a66e-0b2590e93255",
        "colab": {
          "base_uri": "https://localhost:8080/",
          "height": 499
        }
      },
      "source": [
        "accuracy = history.history['accuracy']\n",
        "val_acc = history.history['val_accuracy']\n",
        "\n",
        "loss = history.history['loss']\n",
        "val_loss = history.history['val_loss']\n",
        "\n",
        "epochs_range = range(1, EPOCHS+1)\n",
        "\n",
        "plt.figure(figsize=(8, 8))\n",
        "plt.subplot(1, 2, 1)\n",
        "plt.plot(epochs_range, accuracy, label='Training Accuracy')\n",
        "plt.plot(epochs_range, val_acc, label='Testing Accuracy')\n",
        "plt.legend(loc='lower right')\n",
        "plt.title('Training and Testing Accuracy')\n",
        "\n",
        "plt.subplot(1, 2, 2)\n",
        "plt.plot(epochs_range, loss, label='Training Loss')\n",
        "plt.plot(epochs_range, val_loss, label='Testing Loss')\n",
        "plt.legend(loc='upper right')\n",
        "plt.title('Training and Testing Loss')\n",
        "plt.show()"
      ],
      "execution_count": 0,
      "outputs": [
        {
          "output_type": "display_data",
          "data": {
            "image/png": "[encoded data removed]",
            "text/plain": [
              "<Figure size 576x576 with 2 Axes>"
            ]
          },
          "metadata": {
            "tags": []
          }
        }
      ]
    }
  ]
}